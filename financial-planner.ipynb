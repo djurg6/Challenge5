{
 "cells": [
  {
   "cell_type": "markdown",
   "metadata": {},
   "source": [
    "# Unit 5 - Financial Planning"
   ]
  },
  {
   "cell_type": "code",
   "execution_count": 1,
   "metadata": {},
   "outputs": [],
   "source": [
    "# Initial imports\n",
    "import os\n",
    "import requests\n",
    "import pandas as pd\n",
    "from dotenv import load_dotenv\n",
    "import alpaca_trade_api as tradeapi\n",
    "from MCForecastTools import MCSimulation\n",
    "\n",
    "%matplotlib inline"
   ]
  },
  {
   "cell_type": "code",
   "execution_count": 2,
   "metadata": {},
   "outputs": [
    {
     "data": {
      "text/plain": [
       "False"
      ]
     },
     "execution_count": 2,
     "metadata": {},
     "output_type": "execute_result"
    }
   ],
   "source": [
    "# Load .env enviroment variables\n",
    "load_dotenv()"
   ]
  },
  {
   "cell_type": "markdown",
   "metadata": {},
   "source": [
    "## Part 1 - Personal Finance Planner"
   ]
  },
  {
   "cell_type": "markdown",
   "metadata": {},
   "source": [
    "### Collect Crypto Prices Using the `requests` Library"
   ]
  },
  {
   "cell_type": "code",
   "execution_count": 3,
   "metadata": {},
   "outputs": [],
   "source": [
    "# Set current amount of crypto assets\n",
    "my_btc = 1.2\n",
    "my_eth = 5.3"
   ]
  },
  {
   "cell_type": "code",
   "execution_count": 4,
   "metadata": {},
   "outputs": [],
   "source": [
    "# Crypto API URLs\n",
    "btc_url = \"https://api.alternative.me/v2/ticker/Bitcoin/?convert=USD\"\n",
    "eth_url = \"https://api.alternative.me/v2/ticker/Ethereum/?convert=USD\""
   ]
  },
  {
   "cell_type": "code",
   "execution_count": 5,
   "metadata": {},
   "outputs": [
    {
     "name": "stdout",
     "output_type": "stream",
     "text": [
      "The current value of your 1.2 BTC is $31886.40\n",
      "The current value of your 5.3 ETH is $8440.62\n"
     ]
    }
   ],
   "source": [
    "# Fetch current BTC price\n",
    "import requests\n",
    "response_btc = requests.get(btc_url)\n",
    "btc_symbol = \"BTC\"\n",
    "data_btc = response_btc.json()\n",
    "btc_price = data_btc[\"data\"][\"1\"][\"quotes\"][\"USD\"][\"price\"]\n",
    "crypto_prices = {}\n",
    "\n",
    "# Fetch current ETH price\n",
    "\n",
    "response_eth = requests.get(eth_url)\n",
    "eth_symbol = \"ETH\"\n",
    "data_eth = response_eth.json()\n",
    "eth_price = data_eth[\"data\"][\"1027\"][\"quotes\"][\"USD\"][\"price\"]\n",
    "crypto_prices[\"ETH\"] = eth_price\n",
    "\n",
    "# Compute current value of my crpto\n",
    "my_btc_value = my_btc * btc_price\n",
    "my_eth_value = my_eth * eth_price\n",
    "\n",
    "# Print current crypto wallet balance\n",
    "print(f\"The current value of your {my_btc} BTC is ${my_btc_value:0.2f}\")\n",
    "print(f\"The current value of your {my_eth} ETH is ${my_eth_value:0.2f}\")"
   ]
  },
  {
   "cell_type": "markdown",
   "metadata": {},
   "source": [
    "### Collect Investments Data Using Alpaca: `SPY` (stocks) and `AGG` (bonds)"
   ]
  },
  {
   "cell_type": "code",
   "execution_count": 6,
   "metadata": {},
   "outputs": [],
   "source": [
    "# Set current amount of shares\n",
    "my_agg = 200\n",
    "my_spy = 50"
   ]
  },
  {
   "cell_type": "code",
   "execution_count": 8,
   "metadata": {},
   "outputs": [],
   "source": [
    "# Set Alpaca API key and secret\n",
    "api_key = \"PKKJCBMXMG7JIL9DR9PB\"\n",
    "secret_key = \"2GKjOEuCe5tSW9PS5F0fw3a48IKFXS96PySNcz0b\"\n",
    "\n",
    "# Create the Alpaca API object\n",
    "api = tradeapi.REST(api_key, secret_key, base_url=\"https://paper-api.alpaca.markets\")"
   ]
  },
  {
   "cell_type": "code",
   "execution_count": 21,
   "metadata": {},
   "outputs": [
    {
     "ename": "APIError",
     "evalue": "start can not be after end",
     "output_type": "error",
     "traceback": [
      "\u001b[1;31m---------------------------------------------------------------------------\u001b[0m",
      "\u001b[1;31mHTTPError\u001b[0m                                 Traceback (most recent call last)",
      "File \u001b[1;32mc:\\Users\\djurg\\anaconda3\\envs\\dev\\lib\\site-packages\\alpaca_trade_api\\rest.py:234\u001b[0m, in \u001b[0;36mREST._one_request\u001b[1;34m(self, method, url, opts, retry)\u001b[0m\n\u001b[0;32m    233\u001b[0m \u001b[39mtry\u001b[39;00m:\n\u001b[1;32m--> 234\u001b[0m     resp\u001b[39m.\u001b[39;49mraise_for_status()\n\u001b[0;32m    235\u001b[0m \u001b[39mexcept\u001b[39;00m HTTPError \u001b[39mas\u001b[39;00m http_error:\n\u001b[0;32m    236\u001b[0m     \u001b[39m# retry if we hit Rate Limit\u001b[39;00m\n",
      "File \u001b[1;32mc:\\Users\\djurg\\anaconda3\\envs\\dev\\lib\\site-packages\\requests\\models.py:1021\u001b[0m, in \u001b[0;36mResponse.raise_for_status\u001b[1;34m(self)\u001b[0m\n\u001b[0;32m   1020\u001b[0m \u001b[39mif\u001b[39;00m http_error_msg:\n\u001b[1;32m-> 1021\u001b[0m     \u001b[39mraise\u001b[39;00m HTTPError(http_error_msg, response\u001b[39m=\u001b[39m\u001b[39mself\u001b[39m)\n",
      "\u001b[1;31mHTTPError\u001b[0m: 422 Client Error: Unprocessable Entity for url: https://data.alpaca.markets/v2/stocks/bars?timeframe=1Day&adjustment=raw&end=2023-09-23&symbols=AGG%2CSPY",
      "\nDuring handling of the above exception, another exception occurred:\n",
      "\u001b[1;31mAPIError\u001b[0m                                  Traceback (most recent call last)",
      "\u001b[1;32mc:\\Users\\djurg\\OneDrive\\Desktop\\Git Lab Class Activities\\MIA-VIRT-FIN-PT-08-2023-U-LOLC\\05-APIs\\Homework Instructions\\Starter_Code\\financial-planner.ipynb Cell 12\u001b[0m line \u001b[0;36m1\n\u001b[0;32m     <a href='vscode-notebook-cell:/c%3A/Users/djurg/OneDrive/Desktop/Git%20Lab%20Class%20Activities/MIA-VIRT-FIN-PT-08-2023-U-LOLC/05-APIs/Homework%20Instructions/Starter_Code/financial-planner.ipynb#X14sZmlsZQ%3D%3D?line=13'>14</a>\u001b[0m timeframe \u001b[39m=\u001b[39m \u001b[39m\"\u001b[39m\u001b[39m1Day\u001b[39m\u001b[39m\"\u001b[39m\n\u001b[0;32m     <a href='vscode-notebook-cell:/c%3A/Users/djurg/OneDrive/Desktop/Git%20Lab%20Class%20Activities/MIA-VIRT-FIN-PT-08-2023-U-LOLC/05-APIs/Homework%20Instructions/Starter_Code/financial-planner.ipynb#X14sZmlsZQ%3D%3D?line=15'>16</a>\u001b[0m \u001b[39m# Get current closing prices for SPY and AGG\u001b[39;00m\n\u001b[1;32m---> <a href='vscode-notebook-cell:/c%3A/Users/djurg/OneDrive/Desktop/Git%20Lab%20Class%20Activities/MIA-VIRT-FIN-PT-08-2023-U-LOLC/05-APIs/Homework%20Instructions/Starter_Code/financial-planner.ipynb#X14sZmlsZQ%3D%3D?line=16'>17</a>\u001b[0m closing_prices \u001b[39m=\u001b[39m api\u001b[39m.\u001b[39;49mget_bars(tickers, timeframe, end\u001b[39m=\u001b[39;49mcurrent_date)\u001b[39m.\u001b[39mdf\n\u001b[0;32m     <a href='vscode-notebook-cell:/c%3A/Users/djurg/OneDrive/Desktop/Git%20Lab%20Class%20Activities/MIA-VIRT-FIN-PT-08-2023-U-LOLC/05-APIs/Homework%20Instructions/Starter_Code/financial-planner.ipynb#X14sZmlsZQ%3D%3D?line=18'>19</a>\u001b[0m \u001b[39m# Reorganize the DataFrame\u001b[39;00m\n\u001b[0;32m     <a href='vscode-notebook-cell:/c%3A/Users/djurg/OneDrive/Desktop/Git%20Lab%20Class%20Activities/MIA-VIRT-FIN-PT-08-2023-U-LOLC/05-APIs/Homework%20Instructions/Starter_Code/financial-planner.ipynb#X14sZmlsZQ%3D%3D?line=19'>20</a>\u001b[0m \u001b[39m# Separate ticker data\u001b[39;00m\n\u001b[0;32m     <a href='vscode-notebook-cell:/c%3A/Users/djurg/OneDrive/Desktop/Git%20Lab%20Class%20Activities/MIA-VIRT-FIN-PT-08-2023-U-LOLC/05-APIs/Homework%20Instructions/Starter_Code/financial-planner.ipynb#X14sZmlsZQ%3D%3D?line=20'>21</a>\u001b[0m agg_df \u001b[39m=\u001b[39m closing_prices[\u001b[39m\"\u001b[39m\u001b[39mAGG\u001b[39m\u001b[39m\"\u001b[39m][\u001b[39m\"\u001b[39m\u001b[39mclose\u001b[39m\u001b[39m\"\u001b[39m]\u001b[39m.\u001b[39mreset_index()\n",
      "File \u001b[1;32mc:\\Users\\djurg\\anaconda3\\envs\\dev\\lib\\site-packages\\alpaca_trade_api\\rest.py:718\u001b[0m, in \u001b[0;36mREST.get_bars\u001b[1;34m(self, symbol, timeframe, start, end, adjustment, limit, feed, asof)\u001b[0m\n\u001b[0;32m    708\u001b[0m \u001b[39mdef\u001b[39;00m \u001b[39mget_bars\u001b[39m(\u001b[39mself\u001b[39m,\n\u001b[0;32m    709\u001b[0m              symbol: Union[\u001b[39mstr\u001b[39m, List[\u001b[39mstr\u001b[39m]],\n\u001b[0;32m    710\u001b[0m              timeframe: TimeFrame,\n\u001b[1;32m   (...)\u001b[0m\n\u001b[0;32m    716\u001b[0m              asof: Optional[\u001b[39mstr\u001b[39m] \u001b[39m=\u001b[39m \u001b[39mNone\u001b[39;00m,\n\u001b[0;32m    717\u001b[0m              ) \u001b[39m-\u001b[39m\u001b[39m>\u001b[39m BarsV2:\n\u001b[1;32m--> 718\u001b[0m     bars \u001b[39m=\u001b[39m \u001b[39mlist\u001b[39;49m(\u001b[39mself\u001b[39;49m\u001b[39m.\u001b[39;49mget_bars_iter(symbol,\n\u001b[0;32m    719\u001b[0m                                    timeframe,\n\u001b[0;32m    720\u001b[0m                                    start,\n\u001b[0;32m    721\u001b[0m                                    end,\n\u001b[0;32m    722\u001b[0m                                    adjustment,\n\u001b[0;32m    723\u001b[0m                                    limit,\n\u001b[0;32m    724\u001b[0m                                    feed\u001b[39m=\u001b[39;49mfeed,\n\u001b[0;32m    725\u001b[0m                                    asof\u001b[39m=\u001b[39;49masof,\n\u001b[0;32m    726\u001b[0m                                    raw\u001b[39m=\u001b[39;49m\u001b[39mTrue\u001b[39;49;00m))\n\u001b[0;32m    727\u001b[0m     \u001b[39mreturn\u001b[39;00m BarsV2(bars)\n",
      "File \u001b[1;32mc:\\Users\\djurg\\anaconda3\\envs\\dev\\lib\\site-packages\\alpaca_trade_api\\rest.py:702\u001b[0m, in \u001b[0;36mREST.get_bars_iter\u001b[1;34m(self, symbol, timeframe, start, end, adjustment, limit, feed, asof, raw)\u001b[0m\n\u001b[0;32m    684\u001b[0m \u001b[39mdef\u001b[39;00m \u001b[39mget_bars_iter\u001b[39m(\u001b[39mself\u001b[39m,\n\u001b[0;32m    685\u001b[0m                   symbol: Union[\u001b[39mstr\u001b[39m, List[\u001b[39mstr\u001b[39m]],\n\u001b[0;32m    686\u001b[0m                   timeframe: TimeFrame,\n\u001b[1;32m   (...)\u001b[0m\n\u001b[0;32m    692\u001b[0m                   asof: Optional[\u001b[39mstr\u001b[39m] \u001b[39m=\u001b[39m \u001b[39mNone\u001b[39;00m,\n\u001b[0;32m    693\u001b[0m                   raw\u001b[39m=\u001b[39m\u001b[39mFalse\u001b[39;00m) \u001b[39m-\u001b[39m\u001b[39m>\u001b[39m BarIterator:\n\u001b[0;32m    694\u001b[0m     bars \u001b[39m=\u001b[39m \u001b[39mself\u001b[39m\u001b[39m.\u001b[39m_data_get(\u001b[39m'\u001b[39m\u001b[39mbars\u001b[39m\u001b[39m'\u001b[39m, symbol,\n\u001b[0;32m    695\u001b[0m                           timeframe\u001b[39m=\u001b[39mtimeframe,\n\u001b[0;32m    696\u001b[0m                           adjustment\u001b[39m=\u001b[39madjustment,\n\u001b[1;32m   (...)\u001b[0m\n\u001b[0;32m    700\u001b[0m                           feed\u001b[39m=\u001b[39mfeed,\n\u001b[0;32m    701\u001b[0m                           asof\u001b[39m=\u001b[39masof)\n\u001b[1;32m--> 702\u001b[0m     \u001b[39mfor\u001b[39;00m bar \u001b[39min\u001b[39;00m bars:\n\u001b[0;32m    703\u001b[0m         \u001b[39mif\u001b[39;00m raw:\n\u001b[0;32m    704\u001b[0m             \u001b[39myield\u001b[39;00m bar\n",
      "File \u001b[1;32mc:\\Users\\djurg\\anaconda3\\envs\\dev\\lib\\site-packages\\alpaca_trade_api\\rest.py:589\u001b[0m, in \u001b[0;36mREST._data_get\u001b[1;34m(self, endpoint, symbol_or_symbols, api_version, endpoint_base, resp_grouped_by_symbol, page_limit, feed, asof, loc, **kwargs)\u001b[0m\n\u001b[0;32m    587\u001b[0m \u001b[39mif\u001b[39;00m endpoint:\n\u001b[0;32m    588\u001b[0m     path \u001b[39m+\u001b[39m\u001b[39m=\u001b[39m \u001b[39mf\u001b[39m\u001b[39m'\u001b[39m\u001b[39m/\u001b[39m\u001b[39m{\u001b[39;00mendpoint\u001b[39m}\u001b[39;00m\u001b[39m'\u001b[39m\n\u001b[1;32m--> 589\u001b[0m resp \u001b[39m=\u001b[39m \u001b[39mself\u001b[39;49m\u001b[39m.\u001b[39;49mdata_get(path, data\u001b[39m=\u001b[39;49mdata, feed\u001b[39m=\u001b[39;49mfeed,\n\u001b[0;32m    590\u001b[0m                      api_version\u001b[39m=\u001b[39;49mapi_version)\n\u001b[0;32m    591\u001b[0m \u001b[39mif\u001b[39;00m \u001b[39mnot\u001b[39;00m resp_grouped_by_symbol:\n\u001b[0;32m    592\u001b[0m     k \u001b[39m=\u001b[39m endpoint \u001b[39mor\u001b[39;00m endpoint_base\n",
      "File \u001b[1;32mc:\\Users\\djurg\\anaconda3\\envs\\dev\\lib\\site-packages\\alpaca_trade_api\\rest.py:270\u001b[0m, in \u001b[0;36mREST.data_get\u001b[1;34m(self, path, data, feed, api_version)\u001b[0m\n\u001b[0;32m    268\u001b[0m     data \u001b[39m=\u001b[39m data \u001b[39mor\u001b[39;00m {}\n\u001b[0;32m    269\u001b[0m     data[\u001b[39m'\u001b[39m\u001b[39mfeed\u001b[39m\u001b[39m'\u001b[39m] \u001b[39m=\u001b[39m feed\n\u001b[1;32m--> 270\u001b[0m \u001b[39mreturn\u001b[39;00m \u001b[39mself\u001b[39;49m\u001b[39m.\u001b[39;49m_request(\n\u001b[0;32m    271\u001b[0m     \u001b[39m'\u001b[39;49m\u001b[39mGET\u001b[39;49m\u001b[39m'\u001b[39;49m, path, data, base_url\u001b[39m=\u001b[39;49mbase_url, api_version\u001b[39m=\u001b[39;49mapi_version,\n\u001b[0;32m    272\u001b[0m )\n",
      "File \u001b[1;32mc:\\Users\\djurg\\anaconda3\\envs\\dev\\lib\\site-packages\\alpaca_trade_api\\rest.py:213\u001b[0m, in \u001b[0;36mREST._request\u001b[1;34m(self, method, path, data, base_url, api_version)\u001b[0m\n\u001b[0;32m    211\u001b[0m \u001b[39mwhile\u001b[39;00m retry \u001b[39m>\u001b[39m\u001b[39m=\u001b[39m \u001b[39m0\u001b[39m:\n\u001b[0;32m    212\u001b[0m     \u001b[39mtry\u001b[39;00m:\n\u001b[1;32m--> 213\u001b[0m         \u001b[39mreturn\u001b[39;00m \u001b[39mself\u001b[39;49m\u001b[39m.\u001b[39;49m_one_request(method, url, opts, retry)\n\u001b[0;32m    214\u001b[0m     \u001b[39mexcept\u001b[39;00m RetryException:\n\u001b[0;32m    215\u001b[0m         retry_wait \u001b[39m=\u001b[39m \u001b[39mself\u001b[39m\u001b[39m.\u001b[39m_retry_wait\n",
      "File \u001b[1;32mc:\\Users\\djurg\\anaconda3\\envs\\dev\\lib\\site-packages\\alpaca_trade_api\\rest.py:242\u001b[0m, in \u001b[0;36mREST._one_request\u001b[1;34m(self, method, url, opts, retry)\u001b[0m\n\u001b[0;32m    240\u001b[0m     error \u001b[39m=\u001b[39m resp\u001b[39m.\u001b[39mjson()\n\u001b[0;32m    241\u001b[0m     \u001b[39mif\u001b[39;00m \u001b[39m'\u001b[39m\u001b[39mcode\u001b[39m\u001b[39m'\u001b[39m \u001b[39min\u001b[39;00m error:\n\u001b[1;32m--> 242\u001b[0m         \u001b[39mraise\u001b[39;00m APIError(error, http_error)\n\u001b[0;32m    243\u001b[0m \u001b[39melse\u001b[39;00m:\n\u001b[0;32m    244\u001b[0m     \u001b[39mraise\u001b[39;00m\n",
      "\u001b[1;31mAPIError\u001b[0m: start can not be after end"
     ]
    }
   ],
   "source": [
    "# Format current date as ISO format\n",
    "current_date = \"2023-09-23\"\n",
    "current_date_iso = pd.Timestamp(current_date, tz=\"America/New_York\").isoformat()\n",
    "historical_data_window_minutes = 15\n",
    "\n",
    "if start_datetime > pd.Timestamp(current_date, tz=\"America/New_York\"):\n",
    "    start_datetime = pd.Timestamp(current_date, tz=\"America/New_York\")\n",
    "    start_date = start_datetime.strftime(\"%Y-%m-%d %H:%M:%S\")\n",
    "\n",
    "# Set the tickers\n",
    "tickers = [\"AGG\", \"SPY\"]\n",
    "\n",
    "# Set timeframe to \"1Day\" for Alpaca API\n",
    "timeframe = \"1Day\"\n",
    "\n",
    "# Get current closing prices for SPY and AGG\n",
    "closing_prices = api.get_bars(tickers, timeframe, end=current_date).df\n",
    "\n",
    "# Reorganize the DataFrame\n",
    "# Separate ticker data\n",
    "agg_df = closing_prices[\"AGG\"][\"close\"].reset_index()\n",
    "spy_df = closing_prices[\"SPY\"][\"close\"].reset_index()\n",
    "\n",
    "\n",
    "# Concatenate the ticker DataFrames\n",
    "merged_df = pd.concat([agg_df, spy_df], axis=1)\n",
    "merged_df.columns = [\"Date\", \"AGG Close\", \"Date\", \"SPY Close\"]\n",
    "\n",
    "# Preview DataFrame\n",
    "print(merged_df)"
   ]
  },
  {
   "cell_type": "code",
   "execution_count": 22,
   "metadata": {},
   "outputs": [
    {
     "ename": "NameError",
     "evalue": "name 'merged_df' is not defined",
     "output_type": "error",
     "traceback": [
      "\u001b[1;31m---------------------------------------------------------------------------\u001b[0m",
      "\u001b[1;31mNameError\u001b[0m                                 Traceback (most recent call last)",
      "\u001b[1;32mc:\\Users\\djurg\\OneDrive\\Desktop\\Git Lab Class Activities\\MIA-VIRT-FIN-PT-08-2023-U-LOLC\\05-APIs\\Homework Instructions\\Starter_Code\\financial-planner.ipynb Cell 13\u001b[0m line \u001b[0;36m2\n\u001b[0;32m      <a href='vscode-notebook-cell:/c%3A/Users/djurg/OneDrive/Desktop/Git%20Lab%20Class%20Activities/MIA-VIRT-FIN-PT-08-2023-U-LOLC/05-APIs/Homework%20Instructions/Starter_Code/financial-planner.ipynb#X15sZmlsZQ%3D%3D?line=0'>1</a>\u001b[0m \u001b[39m# Pick AGG and SPY close prices\u001b[39;00m\n\u001b[1;32m----> <a href='vscode-notebook-cell:/c%3A/Users/djurg/OneDrive/Desktop/Git%20Lab%20Class%20Activities/MIA-VIRT-FIN-PT-08-2023-U-LOLC/05-APIs/Homework%20Instructions/Starter_Code/financial-planner.ipynb#X15sZmlsZQ%3D%3D?line=1'>2</a>\u001b[0m selected_columns \u001b[39m=\u001b[39m merged_df[[\u001b[39m'\u001b[39m\u001b[39magg_close_price\u001b[39m\u001b[39m'\u001b[39m, \u001b[39m'\u001b[39m\u001b[39mspy_close_price\u001b[39m\u001b[39m'\u001b[39m]]\n\u001b[0;32m      <a href='vscode-notebook-cell:/c%3A/Users/djurg/OneDrive/Desktop/Git%20Lab%20Class%20Activities/MIA-VIRT-FIN-PT-08-2023-U-LOLC/05-APIs/Homework%20Instructions/Starter_Code/financial-planner.ipynb#X15sZmlsZQ%3D%3D?line=3'>4</a>\u001b[0m \u001b[39m# Print AGG and SPY close prices\u001b[39;00m\n\u001b[0;32m      <a href='vscode-notebook-cell:/c%3A/Users/djurg/OneDrive/Desktop/Git%20Lab%20Class%20Activities/MIA-VIRT-FIN-PT-08-2023-U-LOLC/05-APIs/Homework%20Instructions/Starter_Code/financial-planner.ipynb#X15sZmlsZQ%3D%3D?line=4'>5</a>\u001b[0m \u001b[39mprint\u001b[39m(\u001b[39mf\u001b[39m\u001b[39m\"\u001b[39m\u001b[39mCurrent AGG closing price: $\u001b[39m\u001b[39m{\u001b[39;00magg_close_price\u001b[39m}\u001b[39;00m\u001b[39m\"\u001b[39m)\n",
      "\u001b[1;31mNameError\u001b[0m: name 'merged_df' is not defined"
     ]
    }
   ],
   "source": [
    "# Pick AGG and SPY close prices\n",
    "selected_columns = merged_df[['agg_close_price', 'spy_close_price']]\n",
    "\n",
    "# Print AGG and SPY close prices\n",
    "print(f\"Current AGG closing price: ${agg_close_price}\")\n",
    "print(f\"Current SPY closing price: ${spy_close_price}\")"
   ]
  },
  {
   "cell_type": "code",
   "execution_count": 30,
   "metadata": {},
   "outputs": [
    {
     "name": "stdout",
     "output_type": "stream",
     "text": [
      "The current value of your 50 SPY shares is $1.00\n",
      "The current value of your 200 AGG shares is $1.00\n"
     ]
    }
   ],
   "source": [
    "# Compute the current value of shares\n",
    "agg_close_price = 1 \n",
    "spy_close_price = 1\n",
    "my_agg = 200\n",
    "my_spy = 50\n",
    "\n",
    "# Print current value of shares\n",
    "print(f\"The current value of your {my_spy} SPY shares is ${spy_shares:0.2f}\")\n",
    "print(f\"The current value of your {my_agg} AGG shares is ${agg_shares:0.2f}\")"
   ]
  },
  {
   "cell_type": "markdown",
   "metadata": {},
   "source": [
    "### Savings Health Analysis"
   ]
  },
  {
   "cell_type": "code",
   "execution_count": null,
   "metadata": {},
   "outputs": [],
   "source": [
    "# Set monthly household income\n",
    "# YOUR CODE HERE!\n",
    "\n",
    "# Consolidate financial assets data\n",
    "# YOUR CODE HERE!\n",
    "\n",
    "# Create savings DataFrame\n",
    "# YOUR CODE HERE!\n",
    "\n",
    "# Display savings DataFrame\n",
    "display(df_savings)"
   ]
  },
  {
   "cell_type": "code",
   "execution_count": null,
   "metadata": {},
   "outputs": [],
   "source": [
    "# Plot savings pie chart\n",
    "# YOUR CODE HERE!"
   ]
  },
  {
   "cell_type": "code",
   "execution_count": null,
   "metadata": {},
   "outputs": [],
   "source": [
    "# Set ideal emergency fund\n",
    "emergency_fund = monthly_income * 3\n",
    "\n",
    "# Calculate total amount of savings\n",
    "# YOUR CODE HERE!\n",
    "\n",
    "# Validate saving health\n",
    "# YOUR CODE HERE!"
   ]
  },
  {
   "cell_type": "markdown",
   "metadata": {},
   "source": [
    "## Part 2 - Retirement Planning\n",
    "\n",
    "### Monte Carlo Simulation"
   ]
  },
  {
   "cell_type": "code",
   "execution_count": 13,
   "metadata": {},
   "outputs": [],
   "source": [
    "# Set start and end dates of five years back from today.\n",
    "# Sample results may vary from the solution based on the time frame chosen\n",
    "start_date = pd.Timestamp('2016-05-01', tz='America/New_York').isoformat()\n",
    "end_date = pd.Timestamp('2021-05-01', tz='America/New_York').isoformat()"
   ]
  },
  {
   "cell_type": "code",
   "execution_count": 36,
   "metadata": {},
   "outputs": [
    {
     "ename": "TypeError",
     "evalue": "list indices must be integers or slices, not str",
     "output_type": "error",
     "traceback": [
      "\u001b[1;31m---------------------------------------------------------------------------\u001b[0m",
      "\u001b[1;31mTypeError\u001b[0m                                 Traceback (most recent call last)",
      "\u001b[1;32mc:\\Users\\djurg\\OneDrive\\Desktop\\Git Lab Class Activities\\MIA-VIRT-FIN-PT-08-2023-U-LOLC\\05-APIs\\Homework Instructions\\Starter_Code\\financial-planner.ipynb Cell 21\u001b[0m line \u001b[0;36m1\n\u001b[0;32m     <a href='vscode-notebook-cell:/c%3A/Users/djurg/OneDrive/Desktop/Git%20Lab%20Class%20Activities/MIA-VIRT-FIN-PT-08-2023-U-LOLC/05-APIs/Homework%20Instructions/Starter_Code/financial-planner.ipynb#X26sZmlsZQ%3D%3D?line=10'>11</a>\u001b[0m tickers \u001b[39m=\u001b[39m [\u001b[39m\"\u001b[39m\u001b[39mAGG\u001b[39m\u001b[39m\"\u001b[39m, \u001b[39m\"\u001b[39m\u001b[39mSPY\u001b[39m\u001b[39m\"\u001b[39m]\n\u001b[0;32m     <a href='vscode-notebook-cell:/c%3A/Users/djurg/OneDrive/Desktop/Git%20Lab%20Class%20Activities/MIA-VIRT-FIN-PT-08-2023-U-LOLC/05-APIs/Homework%20Instructions/Starter_Code/financial-planner.ipynb#X26sZmlsZQ%3D%3D?line=12'>13</a>\u001b[0m \u001b[39m# Reorganize the DataFrame\u001b[39;00m\n\u001b[1;32m---> <a href='vscode-notebook-cell:/c%3A/Users/djurg/OneDrive/Desktop/Git%20Lab%20Class%20Activities/MIA-VIRT-FIN-PT-08-2023-U-LOLC/05-APIs/Homework%20Instructions/Starter_Code/financial-planner.ipynb#X26sZmlsZQ%3D%3D?line=13'>14</a>\u001b[0m agg_df \u001b[39m=\u001b[39m tickers[\u001b[39m\"\u001b[39;49m\u001b[39mAGG\u001b[39;49m\u001b[39m\"\u001b[39;49m][\u001b[39m\"\u001b[39m\u001b[39mclose\u001b[39m\u001b[39m\"\u001b[39m]\u001b[39m.\u001b[39mreset_index()\n\u001b[0;32m     <a href='vscode-notebook-cell:/c%3A/Users/djurg/OneDrive/Desktop/Git%20Lab%20Class%20Activities/MIA-VIRT-FIN-PT-08-2023-U-LOLC/05-APIs/Homework%20Instructions/Starter_Code/financial-planner.ipynb#X26sZmlsZQ%3D%3D?line=14'>15</a>\u001b[0m spy_df \u001b[39m=\u001b[39m tickers[\u001b[39m\"\u001b[39m\u001b[39mSPY\u001b[39m\u001b[39m\"\u001b[39m][\u001b[39m\"\u001b[39m\u001b[39mclose\u001b[39m\u001b[39m\"\u001b[39m]\u001b[39m.\u001b[39mreset_index()\n\u001b[0;32m     <a href='vscode-notebook-cell:/c%3A/Users/djurg/OneDrive/Desktop/Git%20Lab%20Class%20Activities/MIA-VIRT-FIN-PT-08-2023-U-LOLC/05-APIs/Homework%20Instructions/Starter_Code/financial-planner.ipynb#X26sZmlsZQ%3D%3D?line=18'>19</a>\u001b[0m \u001b[39m# Concatenate the ticker DataFrames\u001b[39;00m\n",
      "\u001b[1;31mTypeError\u001b[0m: list indices must be integers or slices, not str"
     ]
    }
   ],
   "source": [
    "# Get 5 years' worth of historical data for SPY and AGG\n",
    "import pandas as pd\n",
    "import alpaca_trade_api as tradeapi\n",
    "\n",
    "api = tradeapi.REST(api_key, secret_key, base_url=\"https://paper-api.alpaca.markets\")\n",
    "\n",
    "start_date = \"2018-09-23\"\n",
    "end_date = \"2023-09-23\"  \n",
    "\n",
    "# Separate ticker data\n",
    "tickers = [\"AGG\", \"SPY\"]\n",
    "\n",
    "# Reorganize the DataFrame\n",
    "agg_df = tickers[\"AGG\"][\"close\"].reset_index()\n",
    "spy_df = tickers[\"SPY\"][\"close\"].reset_index()\n",
    "\n",
    "\n",
    "\n",
    "# Concatenate the ticker DataFrames\n",
    "agg_data.reset_index(inplace=True)\n",
    "spy_data.reset_index(inplace=True)\n",
    "\n",
    "# Display sample data\n",
    "df_stock_data.head()"
   ]
  },
  {
   "cell_type": "code",
   "execution_count": null,
   "metadata": {},
   "outputs": [],
   "source": [
    "# Configuring a Monte Carlo simulation to forecast 30 years cumulative returns\n",
    "# YOUR CODE HERE!"
   ]
  },
  {
   "cell_type": "code",
   "execution_count": null,
   "metadata": {},
   "outputs": [],
   "source": [
    "# Printing the simulation input data\n",
    "# YOUR CODE HERE!"
   ]
  },
  {
   "cell_type": "code",
   "execution_count": null,
   "metadata": {},
   "outputs": [],
   "source": [
    "# Running a Monte Carlo simulation to forecast 30 years cumulative returns\n",
    "# YOUR CODE HERE!"
   ]
  },
  {
   "cell_type": "code",
   "execution_count": null,
   "metadata": {},
   "outputs": [],
   "source": [
    "# Plot simulation outcomes\n",
    "# YOUR CODE HERE!"
   ]
  },
  {
   "cell_type": "code",
   "execution_count": null,
   "metadata": {},
   "outputs": [],
   "source": [
    "# Plot probability distribution and confidence intervals\n",
    "# YOUR CODE HERE!"
   ]
  },
  {
   "cell_type": "markdown",
   "metadata": {},
   "source": [
    "### Retirement Analysis"
   ]
  },
  {
   "cell_type": "code",
   "execution_count": null,
   "metadata": {},
   "outputs": [],
   "source": [
    "# Fetch summary statistics from the Monte Carlo simulation results\n",
    "# YOUR CODE HERE!\n",
    "\n",
    "# Print summary statistics\n",
    "# YOUR CODE HERE!"
   ]
  },
  {
   "cell_type": "markdown",
   "metadata": {},
   "source": [
    "### Calculate the expected portfolio return at the `95%` lower and upper confidence intervals based on a `$20,000` initial investment."
   ]
  },
  {
   "cell_type": "code",
   "execution_count": null,
   "metadata": {},
   "outputs": [],
   "source": [
    "# Set initial investment\n",
    "initial_investment = 20000\n",
    "\n",
    "# Use the lower and upper `95%` confidence intervals to calculate the range of the possible outcomes of our $20,000\n",
    "# YOUR CODE HERE!\n",
    "\n",
    "# Print results\n",
    "print(f\"There is a 95% chance that an initial investment of ${initial_investment} in the portfolio\"\n",
    "      f\" over the next 30 years will end within in the range of\"\n",
    "      f\" ${ci_lower} and ${ci_upper}\")"
   ]
  },
  {
   "cell_type": "markdown",
   "metadata": {},
   "source": [
    "### Calculate the expected portfolio return at the `95%` lower and upper confidence intervals based on a `50%` increase in the initial investment."
   ]
  },
  {
   "cell_type": "code",
   "execution_count": null,
   "metadata": {},
   "outputs": [],
   "source": [
    "# Set initial investment\n",
    "initial_investment = 20000 * 1.5\n",
    "\n",
    "# Use the lower and upper `95%` confidence intervals to calculate the range of the possible outcomes of our $30,000\n",
    "# YOUR CODE HERE!\n",
    "\n",
    "# Print results\n",
    "print(f\"There is a 95% chance that an initial investment of ${initial_investment} in the portfolio\"\n",
    "      f\" over the next 30 years will end within in the range of\"\n",
    "      f\" ${ci_lower} and ${ci_upper}\")"
   ]
  },
  {
   "cell_type": "markdown",
   "metadata": {},
   "source": [
    "## Optional Challenge - Early Retirement\n",
    "\n",
    "\n",
    "### Five Years Retirement Option"
   ]
  },
  {
   "cell_type": "code",
   "execution_count": null,
   "metadata": {},
   "outputs": [],
   "source": [
    "# Configuring a Monte Carlo simulation to forecast 5 years cumulative returns\n",
    "# YOUR CODE HERE!"
   ]
  },
  {
   "cell_type": "code",
   "execution_count": null,
   "metadata": {},
   "outputs": [],
   "source": [
    "# Running a Monte Carlo simulation to forecast 5 years cumulative returns\n",
    "# YOUR CODE HERE!"
   ]
  },
  {
   "cell_type": "code",
   "execution_count": null,
   "metadata": {},
   "outputs": [],
   "source": [
    "# Plot simulation outcomes\n",
    "# YOUR CODE HERE!"
   ]
  },
  {
   "cell_type": "code",
   "execution_count": null,
   "metadata": {},
   "outputs": [],
   "source": [
    "# Plot probability distribution and confidence intervals\n",
    "# YOUR CODE HERE!"
   ]
  },
  {
   "cell_type": "code",
   "execution_count": null,
   "metadata": {},
   "outputs": [],
   "source": [
    "# Fetch summary statistics from the Monte Carlo simulation results\n",
    "# YOUR CODE HERE!\n",
    "\n",
    "# Print summary statistics\n",
    "# YOUR CODE HERE!"
   ]
  },
  {
   "cell_type": "code",
   "execution_count": null,
   "metadata": {},
   "outputs": [],
   "source": [
    "# Set initial investment\n",
    "# YOUR CODE HERE!\n",
    "\n",
    "# Use the lower and upper `95%` confidence intervals to calculate the range of the possible outcomes of our $60,000\n",
    "# YOUR CODE HERE!\n",
    "\n",
    "# Print results\n",
    "print(f\"There is a 95% chance that an initial investment of ${initial_investment} in the portfolio\"\n",
    "      f\" over the next 5 years will end within in the range of\"\n",
    "      f\" ${ci_lower_five} and ${ci_upper_five}\")"
   ]
  },
  {
   "cell_type": "markdown",
   "metadata": {},
   "source": [
    "### Ten Years Retirement Option"
   ]
  },
  {
   "cell_type": "code",
   "execution_count": null,
   "metadata": {},
   "outputs": [],
   "source": [
    "# Configuring a Monte Carlo simulation to forecast 10 years cumulative returns\n",
    "# YOUR CODE HERE!"
   ]
  },
  {
   "cell_type": "code",
   "execution_count": null,
   "metadata": {},
   "outputs": [],
   "source": [
    "# Running a Monte Carlo simulation to forecast 10 years cumulative returns\n",
    "# YOUR CODE HERE!"
   ]
  },
  {
   "cell_type": "code",
   "execution_count": null,
   "metadata": {},
   "outputs": [],
   "source": [
    "# Plot simulation outcomes\n",
    "# YOUR CODE HERE!"
   ]
  },
  {
   "cell_type": "code",
   "execution_count": null,
   "metadata": {},
   "outputs": [],
   "source": [
    "# Plot probability distribution and confidence intervals\n",
    "# YOUR CODE HERE!"
   ]
  },
  {
   "cell_type": "code",
   "execution_count": null,
   "metadata": {},
   "outputs": [],
   "source": [
    "# Fetch summary statistics from the Monte Carlo simulation results\n",
    "# YOUR CODE HERE!\n",
    "\n",
    "# Print summary statistics\n",
    "# YOUR CODE HERE!"
   ]
  },
  {
   "cell_type": "code",
   "execution_count": null,
   "metadata": {},
   "outputs": [],
   "source": [
    "# Set initial investment\n",
    "# YOUR CODE HERE!\n",
    "\n",
    "# Use the lower and upper `95%` confidence intervals to calculate the range of the possible outcomes of our $60,000\n",
    "# YOUR CODE HERE!\n",
    "\n",
    "# Print results\n",
    "print(f\"There is a 95% chance that an initial investment of ${initial_investment} in the portfolio\"\n",
    "      f\" over the next 10 years will end within in the range of\"\n",
    "      f\" ${ci_lower_ten} and ${ci_upper_ten}\")"
   ]
  },
  {
   "cell_type": "code",
   "execution_count": null,
   "metadata": {},
   "outputs": [],
   "source": []
  }
 ],
 "metadata": {
  "kernelspec": {
   "display_name": "Python 3",
   "language": "python",
   "name": "python3"
  },
  "language_info": {
   "codemirror_mode": {
    "name": "ipython",
    "version": 3
   },
   "file_extension": ".py",
   "mimetype": "text/x-python",
   "name": "python",
   "nbconvert_exporter": "python",
   "pygments_lexer": "ipython3",
   "version": "3.10.12"
  },
  "nteract": {
   "version": "0.28.0"
  }
 },
 "nbformat": 4,
 "nbformat_minor": 4
}
